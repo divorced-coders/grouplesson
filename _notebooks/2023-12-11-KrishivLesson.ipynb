{
 "cells": [
  {
   "cell_type": "markdown",
   "metadata": {},
   "source": [
    "Integrating Thymeleaf with Spring:\n",
    "Controller and Model:\n",
    "Explain how to use Thymeleaf in Spring MVC controllers.\n",
    "Showcase how to pass data from the controller to Thymeleaf templates using the model.\n",
    "Template Rendering:\n",
    "Show how to use Thymeleaf tags to render dynamic content in HTML.\n",
    "Provide examples of text substitution, conditional rendering, and iteration."
   ]
  },
  {
   "cell_type": "markdown",
   "metadata": {},
   "source": [
    "# How You Would Implement Thymeleaf in the Backend.\n",
    "\n",
    "- Through the use of Controller wihtin the backend it is clearly displayed that the thymeleaf works best in which is where it can be defined to get outputs fom a specific outupts from data stored within the backend"
   ]
  },
  {
   "cell_type": "markdown",
   "metadata": {},
   "source": [
    "# How does Thymleaf work in the backend \n",
    "\n",
    "- Thymeleaf is a framework within the backend spring set through the java controllers which ultimatley, allow you to develop html with attributes from the backend making for a more uer interactive base. All in All this means that Thymleaf is a way to get CRUD functionalities with a set of commands within the HTML."
   ]
  },
  {
   "cell_type": "code",
   "execution_count": null,
   "metadata": {},
   "outputs": [],
   "source": [
    "// Here is a Set of Sample Backend Code you may want to run in a Spring in Jupyter Notebooks is giving you a Hard Time. \n",
    "import org.springframework.stereotype.Controller;\n",
    "import org.springframework.ui.Model;\n",
    "import org.springframework.web.bind.annotation.GetMapping;\n",
    "\n",
    "@Controller\n",
    "public class UserController {\n",
    "\n",
    "    @GetMapping(\"/user\")\n",
    "    public String getUser(Model model)  // allowed to pass data \n",
    "     {\n",
    "   \n",
    "        String username = \"John Doe\";\n",
    "        int age = 30;\n",
    "        String email = \"johndoe@example.com\";\n",
    "\n",
    "        // Adding user data to the Model\n",
    "        model.addAttribute(\"username\", username);// the model. makes thymleaf data applicable for rendering\n",
    "        model.addAttribute(\"age\", age);\n",
    "        model.addAttribute(\"email\", email);\n",
    "\n",
    "        // Return the name of the Thymeleaf template\n",
    "        return \"userProfile\";\n",
    "    }\n",
    "}"
   ]
  },
  {
   "cell_type": "markdown",
   "metadata": {},
   "source": [
    "# Popcorn Hacks\n",
    "- What do you think the Model model means and why is it important \n",
    "Answer Here:______"
   ]
  },
  {
   "cell_type": "markdown",
   "metadata": {},
   "source": [
    "<!-- Define the document type and introduce the Thymeleaf namespace  ultimatley to allow thymeleaf commands-->\n",
    "<html lang=\"en\" xmlns:th=\"http://www.thymeleaf.org\">\n",
    "<head>\n",
    "    <!-- Define the character encoding -->\n",
    "    <meta charset=\"UTF-8\">\n",
    "    <!-- Title of the HTML page -->\n",
    "    <title>User Profile</title>\n",
    "</head>\n",
    "<body>\n",
    "    <!-- Heading for the user profile page -->\n",
    "    <h1>User Profile</h1>\n",
    "    <!-- Thymeleaf conditional block: Display if 'username' exists -->\n",
    "    <div th:if=\"${username}\">\n",
    "        <!-- Display Username with the value of the 'username' variable -->\n",
    "        <p th:text=\"'Username: ' + ${username}\"></p>\n",
    "        <!-- Display Age with the value of the 'age' variable -->\n",
    "        <p th:text=\"'Age: ' + ${age}\"></p>\n",
    "        <!-- Display Email with the value of the 'email' variable -->\n",
    "        <p th:text=\"'Email: ' + ${email}\"></p>\n",
    "</div>\n",
    " <!-- Thymeleaf conditional block: Display if 'username' does not exist -->\n",
    " <div th:unless=\"${username}\">\n",
    "        <!-- Display a message when 'username' doesn't exist -->\n",
    "        <p>No user data available.</p>\n",
    "    </div>\n",
    "</body>\n",
    "</html>"
   ]
  },
  {
   "cell_type": "markdown",
   "metadata": {},
   "source": [
    "## Here Are A list of Specifics Thymeleaf applications wihtin the frontend. \n",
    "\n",
    "1. **th:text**: Sets the text content of an element. `<p th:text=\"${variable}\">Default Text</p>`\n",
    "\n",
    "2. **th:utext**: Similar to `th:text`, but does not escape HTML characters. `<p th:utext=\"${unescapedHTML}\">Default HTML</p>`\n",
    "\n",
    "3. **th:if, th:unless**: Conditional rendering of elements. `<div th:if=\"${condition}\">Render if true</div> <div th:unless=\"${condition}\">Render if false</div>`\n",
    "\n",
    "4. **th:each**: Iterates over collections. `<ul><li th:each=\"item : ${items}\" th:text=\"${item}\"></li></ul>`\n",
    "\n",
    "5. **th:object, th:field**: Binds form fields to a model object for form handling. `<form th:object=\"${user}\" th:action=\"@{/save}\" method=\"post\"><input type=\"text\" th:field=\"*{username}\" /><button type=\"submit\">Submit</button></form>`\n",
    "\n",
    "6. **th:href**: Creates links within the application. `<a th:href=\"@{/home}\">Home</a>`\n",
    "\n",
    "7. **th:class**: Sets CSS classes conditionally. `<div th:class=\"${condition} ? 'active' : 'inactive'\">Element</div>`\n"
   ]
  },
  {
   "cell_type": "markdown",
   "metadata": {},
   "source": [
    "### PopCorn Hack \n",
    "- List 3 more Attributes of Thymleaf in the Frontend\n",
    "1. \n",
    "2.\n",
    "3. "
   ]
  },
  {
   "cell_type": "markdown",
   "metadata": {},
   "source": [
    "# Specific HTML Attributes within Thymeleaf\n",
    "- text substitution, conditional rendering, and iteration."
   ]
  },
  {
   "cell_type": "markdown",
   "metadata": {},
   "source": [
    "### Text Substitution \n",
    "- The usage of text substitution is an act of replacing text or content within HTML elements based on values provided by the server-side application. In Thymeleaf, it's achieved using attributes like th:text or th:utext.\n",
    "\n",
    "\n",
    "PopCorn Hack: explain what the following code below is doing:\n",
    "\n"
   ]
  },
  {
   "cell_type": "code",
   "execution_count": null,
   "metadata": {},
   "outputs": [],
   "source": [
    "\n",
    "<html lang=\"en\" xmlns:th=\"http://www.thymeleaf.org\">\n",
    "<head>\n",
    "    <meta charset=\"UTF-8\">\n",
    "    <title>Text Substitution Example</title>\n",
    "</head>\n",
    "<body>\n",
    "    <h1>Welcome, <span th:text=\"${username}\">Guest</span>!</h1>\n",
    "    <!-- If 'username' exists in the model, it will replace 'Guest' -->\n",
    "</body>\n",
    "</html>"
   ]
  },
  {
   "cell_type": "markdown",
   "metadata": {},
   "source": [
    "### Conditional Rendering \n",
    "\n",
    "- Conditional Rendering: This feature allows displaying or hiding content based on certain conditions. Thymeleaf provides attributes like th:if and th:unless to conditionally render HTML elements.\n",
    "\n",
    "PopCorn Hack: explain what the following code below is doing:\n"
   ]
  },
  {
   "cell_type": "code",
   "execution_count": null,
   "metadata": {},
   "outputs": [],
   "source": [
    "<!DOCTYPE html>\n",
    "<html lang=\"en\" xmlns:th=\"http://www.thymeleaf.org\">\n",
    "<head>\n",
    "    <meta charset=\"UTF-8\">\n",
    "    <title>Conditional Rendering Example</title>\n",
    "</head>\n",
    "<body>\n",
    "    <div th:if=\"${isAdmin}\">\n",
    "        <p>Welcome, Admin!</p>\n",
    "    </div>\n",
    "    <div th:unless=\"${isAdmin}\">\n",
    "        <p>Welcome, User!</p>\n",
    "    </div>\n",
    "</body>\n",
    "</html>\n"
   ]
  },
  {
   "cell_type": "markdown",
   "metadata": {},
   "source": [
    "### Iteration\n",
    "- Iteration: It involves looping through collections or arrays of data to render dynamic content multiple times. Thymeleaf offers the th:each attribute for iterating over collections and rendering content for each item within the collection.\n",
    "\n",
    "PopCorn Hack Explain What this is Doing:"
   ]
  },
  {
   "cell_type": "code",
   "execution_count": null,
   "metadata": {},
   "outputs": [],
   "source": [
    "<html lang=\"en\" xmlns:th=\"http://www.thymeleaf.org\">\n",
    "<head>\n",
    "    <meta charset=\"UTF-8\">\n",
    "    <title>Iteration Example</title>\n",
    "</head>\n",
    "<body>\n",
    "    <ul>\n",
    "        <li th:each=\"item : ${items}\" th:text=\"${item}\">Default Item</li>\n",
    "    </ul>\n",
    "</body>\n",
    "</html>"
   ]
  },
  {
   "cell_type": "markdown",
   "metadata": {},
   "source": [
    "# Hacks \n",
    "- Complete All PopCorn\n",
    "- Create a controller that uses the model function, then in html use the methods in Thymeleaf that were taught \n",
    "- Extra Points For Creativity."
   ]
  }
 ],
 "metadata": {
  "kernelspec": {
   "display_name": "Java",
   "language": "java",
   "name": "java"
  },
  "language_info": {
   "codemirror_mode": "java",
   "file_extension": ".jshell",
   "mimetype": "text/x-java-source",
   "name": "java",
   "pygments_lexer": "java",
   "version": "20.0.1"
  }
 },
 "nbformat": 4,
 "nbformat_minor": 2
}
