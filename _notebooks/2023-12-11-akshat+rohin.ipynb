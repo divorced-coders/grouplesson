{
 "cells": [
  {
   "cell_type": "markdown",
   "metadata": {},
   "source": [
    "---\n",
    "layout: post\n",
    "title: Akshat + Rohin Lesson\n",
    "permalink: /akshatandrohin\n",
    "---"
   ]
  },
  {
   "cell_type": "markdown",
   "metadata": {},
   "source": [
    "# Introduction to Thymeleaf in Spring Framework\n",
    "\n",
    "### Objective:\n",
    "\n",
    "- Understand what Thymeleaf is and its role in Spring projects.\n",
    "- Learn how to add Thymeleaf as a dependency.\n",
    "- Configure Thymeleaf in the Spring application context."
   ]
  },
  {
   "cell_type": "markdown",
   "metadata": {},
   "source": [
    "## Section 1: Introduction to Thymeleaf\n",
    "\n",
    "### What is Thymeleaf?\n",
    "- Server-side Java template engine for web applications.\n",
    "- Role in rendering HTML on the server side.\n",
    "- Comparison with other templating engines (like JSP).\n",
    "\n",
    "### Why Thymeleaf with Spring?\n",
    "- Integration with Spring Framework for dynamic web applications.\n",
    "- Supports Spring Expression Language (SpEL)."
   ]
  },
  {
   "cell_type": "raw",
   "metadata": {},
   "source": [
    "<dependency>\n",
    "    <groupId>org.springframework.boot</groupId>\n",
    "    <artifactId>spring-boot-starter-thymeleaf</artifactId>\n",
    "</dependency>"
   ]
  },
  {
   "attachments": {},
   "cell_type": "markdown",
   "metadata": {},
   "source": [
    "`git clone github.com/grouplesson_backend`"
   ]
  },
  {
   "cell_type": "markdown",
   "metadata": {},
   "source": [
    "# Spring Boot's Auto-Configuration for Thymeleaf\n",
    "\n",
    "When you add Thymeleaf to your Spring Boot project, it automatically configures the necessary beans and settings.\n",
    "\n",
    "Key Points:\n",
    "\n",
    "- Spring Boot detects the presence of spring-boot-starter-thymeleaf in your classpath.\n",
    "- It automatically sets up a TemplateEngine, \n",
    "- TemplateResolver, and ViewResolver for Thymeleaf.\n",
    "\n",
    "## Basic Structure of Thymeleaf Templates\n",
    "\n",
    "Thymeleaf templates are essentially HTML5 files with additional attributes for dynamic content.\n",
    "\n",
    "Typical Template Location:\n",
    "\n",
    "- Thymeleaf templates are typically located in src/main resources/templates in a Spring Boot project.\n",
    "\n",
    "### example:"
   ]
  },
  {
   "cell_type": "raw",
   "metadata": {},
   "source": [
    "<!DOCTYPE html>\n",
    "<html xmlns:th=\"http://www.thymeleaf.org\">\n",
    "<head>\n",
    "    <title>Title</title>\n",
    "</head>\n",
    "<body>\n",
    "    <h1 th:text=\"${message}\">Welcome Message</h1>\n",
    "</body>\n",
    "</html>\n"
   ]
  },
  {
   "cell_type": "markdown",
   "metadata": {},
   "source": [
    "#### Basic Thymeleaf template"
   ]
  },
  {
   "cell_type": "raw",
   "metadata": {},
   "source": [
    "<!DOCTYPE html>\n",
    "<html xmlns:th=\"http://www.thymeleaf.org\">\n",
    "<head>\n",
    "    <title>Simple Example</title>\n",
    "</head>\n",
    "<body>\n",
    "    <p th:text=\"'Hello, ' + ${name} + '!'\">Hello, World!</p>\n",
    "</body>\n",
    "</html>\n"
   ]
  },
  {
   "attachments": {},
   "cell_type": "markdown",
   "metadata": {},
   "source": [
    "# Thymeleaf to Liquid Syntax Quick Guide\n",
    "\n",
    "## Variable Rendering\n",
    "\n",
    "### Thymeleaf\n",
    "```html\n",
    "<span th:text=\"${variable}\">Default Text</span>\n",
    "```\n",
    "\n",
    "### Liquid\n",
    "```liquid\n",
    "<span>{{ variable | default: \"Default Text\" }}</span>\n",
    "```\n",
    "\n",
    "## Conditionals\n",
    "\n",
    "### Thymeleaf\n",
    "```html\n",
    "<th:block th:if=\"${condition}\">\n",
    "    Content to display when condition is true.\n",
    "</th:block>\n",
    "<th:block th:unless=\"${condition}\">\n",
    "    Content to display when condition is false.\n",
    "</th:block>\n",
    "```\n",
    "\n",
    "### Liquid\n",
    "```liquid\n",
    "{% if condition %}\n",
    "    Content to display when condition is true.\n",
    "{% else %}\n",
    "    Content to display when condition is false.\n",
    "{% endif %}\n",
    "```\n",
    "\n",
    "## Iteration\n",
    "\n",
    "### Thymeleaf\n",
    "```html\n",
    "<ul>\n",
    "    <li th:each=\"item : ${items}\">\n",
    "        <span th:text=\"${item}\"></span>\n",
    "    </li>\n",
    "</ul>\n",
    "```\n",
    "\n",
    "### Liquid\n",
    "```liquid\n",
    "<ul>\n",
    "    {% for item in items %}\n",
    "        <li>{{ item }}</li>\n",
    "    {% endfor %}\n",
    "</ul>\n",
    "```\n",
    "\n",
    "## Fragments\n",
    "\n",
    "### Thymeleaf\n",
    "```html\n",
    "<div th:replace=\"fragments/header :: header\"></div>\n",
    "```\n",
    "\n",
    "### Liquid\n",
    "Liquid doesn't have a direct equivalent for fragment replacement. Consider using include or assign for similar functionality.\n",
    "\n",
    "## Comments\n",
    "\n",
    "### Thymeleaf\n",
    "```html\n",
    "<!-- This is a Thymeleaf comment -->\n",
    "```\n",
    "\n",
    "### Liquid\n",
    "```liquid\n",
    "{# This is a Liquid comment #}\n",
    "```\n",
    "\n",
    "This guide provides a quick reference for translating common Thymeleaf syntax to Liquid. Remember to adapt as needed based on your specific use cases and requirements."
   ]
  },
  {
   "attachments": {},
   "cell_type": "markdown",
   "metadata": {},
   "source": [
    "## Template Inheritance\n",
    "\n",
    "### Thymeleaf\n",
    "\n",
    "#### Parent Template (base.html)\n",
    "```html\n",
    "<!DOCTYPE html>\n",
    "<html xmlns:th=\"http://www.thymeleaf.org\">\n",
    "<head>\n",
    "    <meta charset=\"UTF-8\">\n",
    "    <title>Title</title>\n",
    "</head>\n",
    "<body>\n",
    "    <div th:fragment=\"content\">\n",
    "        <!-- Content of the parent template -->\n",
    "    </div>\n",
    "</body>\n",
    "</html>\n",
    "```\n",
    "\n",
    "#### Child Template (child.html)\n",
    "```html\n",
    "<!DOCTYPE html>\n",
    "<html xmlns:th=\"http://www.thymeleaf.org\">\n",
    "<head>\n",
    "    <meta charset=\"UTF-8\">\n",
    "    <title>Title</title>\n",
    "</head>\n",
    "<body>\n",
    "    <div th:replace=\"base :: content\"></div>\n",
    "    <div>\n",
    "        <!-- Additional content in the child template -->\n",
    "    </div>\n",
    "</body>\n",
    "</html>\n",
    "```\n",
    "\n",
    "### Liquid\n",
    "\n",
    "#### Parent Template (base.liquid)\n",
    "```liquid\n",
    "<!DOCTYPE html>\n",
    "<html>\n",
    "<head>\n",
    "    <meta charset=\"UTF-8\">\n",
    "    <title>Title</title>\n",
    "</head>\n",
    "<body>\n",
    "    {% block content %}\n",
    "        <!-- Content of the parent template -->\n",
    "    {% endblock %}\n",
    "</body>\n",
    "</html>\n",
    "```\n",
    "\n",
    "#### Child Template (child.liquid)\n",
    "```liquid\n",
    "---\n",
    "layout: base\n",
    "---\n",
    "\n",
    "{% block content %}\n",
    "    {{ content }}\n",
    "{% endblock %}\n",
    "\n",
    "<div>\n",
    "    <!-- Additional content in the child template -->\n",
    "</div>\n",
    "```\n",
    "\n",
    "In Thymeleaf, template inheritance involves using the `th:fragment` attribute in the parent template and `th:replace` in the child template. In Liquid, the `{% block %}` and `{% endblock %}` tags are used for template inheritance, and the `layout` attribute is specified in the child template's front matter.\n",
    "\n",
    "Adapt the examples based on your specific needs and the features supported by your Thymeleaf and Liquid setups."
   ]
  },
  {
   "cell_type": "markdown",
   "metadata": {},
   "source": [
    "Thymeleaf Expression Language (EL) is used to perform operations and display data within the template.\n",
    "\n",
    "Syntax:\n",
    "\n",
    "Basic syntax is ${...} for variables.\n",
    "You can also use *{...} for objects (known as the selection variable), #{...} for messages, @{...} for URLs, and more.\n",
    "\n",
    "### example:"
   ]
  },
  {
   "cell_type": "raw",
   "metadata": {},
   "source": [
    "<p th:text=\"${user.name}\">Default Name</p>\n",
    "<p th:text=\"${user.age}\">Default Age</p>\n"
   ]
  },
  {
   "attachments": {},
   "cell_type": "markdown",
   "metadata": {},
   "source": [
    "# Hacks\n",
    "\n",
    "Create a default template for use in your project. "
   ]
  }
 ],
 "metadata": {
  "kernelspec": {
   "display_name": "Java",
   "language": "java",
   "name": "java"
  },
  "language_info": {
   "name": "java"
  }
 },
 "nbformat": 4,
 "nbformat_minor": 2
}
