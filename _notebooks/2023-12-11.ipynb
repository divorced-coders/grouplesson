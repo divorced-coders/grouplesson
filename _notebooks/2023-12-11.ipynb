{
 "cells": [
  {
   "cell_type": "markdown",
   "metadata": {},
   "source": [
    "# Introduction to Thymeleaf in Spring Framework\n",
    "\n",
    "### Objective:\n",
    "\n",
    "- Understand what Thymeleaf is and its role in Spring projects.\n",
    "- Learn how to add Thymeleaf as a dependency.\n",
    "- Configure Thymeleaf in the Spring application context."
   ]
  },
  {
   "cell_type": "markdown",
   "metadata": {},
   "source": [
    "## Section 1: Introduction to Thymeleaf\n",
    "\n",
    "### What is Thymeleaf?\n",
    "- Server-side Java template engine for web applications.\n",
    "- Role in rendering HTML on the server side.\n",
    "- Comparison with other templating engines (like JSP).\n",
    "\n",
    "### Why Thymeleaf with Spring?\n",
    "- Integration with Spring Framework for dynamic web applications.\n",
    "- Supports Spring Expression Language (SpEL)."
   ]
  },
  {
   "cell_type": "markdown",
   "metadata": {},
   "source": [
    "# SETTING IT UP!\n",
    "\n",
    "\n",
    "# Using Spring Initializr\n",
    "Navigate to Spring Initializr:\n",
    " - This is an online tool provided by the Spring team to quickly generate Spring Boot projects.\n",
    "\n",
    "### Choose Project Details:\n",
    "- Project: Select either Maven Project or Gradle Project depending on your preference.\n",
    "- Language: Choose Java (as Spring Boot is predominantly used with Java).\n",
    "- Spring Boot Version: Select the version (usually, the default is the latest stable release).\n",
    "- Fill in project metadata (Group, artifact, name, description, packaging, etc.)\n",
    "\n",
    "### Add Dependencies:\n",
    "- For a basic project, you might want to add Spring Web to create a web application.\n",
    "- You can also search for Thymeleaf and add it here.\n",
    "\n",
    "### Generate the Project:\n",
    "- Click on \"Generate\" which will download a zip file containing your project template.\n",
    "\n",
    "### Extract and Open the Project:\n",
    "- Extract the zip file and open the folder in your VSCODE\n",
    "\n",
    "## Sample of adding dependency"
   ]
  },
  {
   "cell_type": "raw",
   "metadata": {},
   "source": [
    "<dependency>\n",
    "    <groupId>org.springframework.boot</groupId>\n",
    "    <artifactId>spring-boot-starter-thymeleaf</artifactId>\n",
    "</dependency>"
   ]
  },
  {
   "cell_type": "markdown",
   "metadata": {},
   "source": [
    "# Spring Boot's Auto-Configuration for Thymeleaf\n",
    "\n",
    "When you add Thymeleaf to your Spring Boot project, it automatically configures the necessary beans and settings.\n",
    "\n",
    "Key Points:\n",
    "\n",
    "- Spring Boot detects the presence of spring-boot-starter-thymeleaf in your classpath.\n",
    "- It automatically sets up a TemplateEngine, \n",
    "- TemplateResolver, and ViewResolver for Thymeleaf.\n",
    "\n",
    "## Basic Structure of Thymeleaf Templates\n",
    "\n",
    "Thymeleaf templates are essentially HTML5 files with additional attributes for dynamic content.\n",
    "\n",
    "Typical Template Location:\n",
    "\n",
    "- Thymeleaf templates are typically located in src/main resources/templates in a Spring Boot project.\n",
    "\n",
    "### example:"
   ]
  },
  {
   "cell_type": "raw",
   "metadata": {},
   "source": [
    "<!DOCTYPE html>\n",
    "<html xmlns:th=\"http://www.thymeleaf.org\">\n",
    "<head>\n",
    "    <title>Title</title>\n",
    "</head>\n",
    "<body>\n",
    "    <h1 th:text=\"${message}\">Welcome Message</h1>\n",
    "</body>\n",
    "</html>\n"
   ]
  },
  {
   "cell_type": "markdown",
   "metadata": {},
   "source": [
    "#### Basic Thymeleaf template"
   ]
  },
  {
   "cell_type": "raw",
   "metadata": {},
   "source": [
    "<!DOCTYPE html>\n",
    "<html xmlns:th=\"http://www.thymeleaf.org\">\n",
    "<head>\n",
    "    <title>Simple Example</title>\n",
    "</head>\n",
    "<body>\n",
    "    <p th:text=\"'Hello, ' + ${name} + '!'\">Hello, World!</p>\n",
    "</body>\n",
    "</html>\n"
   ]
  },
  {
   "cell_type": "markdown",
   "metadata": {},
   "source": [
    "Thymeleaf Expression Language (EL) is used to perform operations and display data within the template.\n",
    "\n",
    "Syntax:\n",
    "\n",
    "Basic syntax is ${...} for variables.\n",
    "You can also use *{...} for objects (known as the selection variable), #{...} for messages, @{...} for URLs, and more.\n",
    "\n",
    "### example:"
   ]
  },
  {
   "cell_type": "raw",
   "metadata": {},
   "source": [
    "<p th:text=\"${user.name}\">Default Name</p>\n",
    "<p th:text=\"${user.age}\">Default Age</p>\n"
   ]
  },
  {
   "cell_type": "markdown",
   "metadata": {},
   "source": [
    "# Hacks\n",
    "\n",
    "Create a Spring Boot application with a Thymeleaf template that displays a personalized user profile page. The profile should include at least three different pieces of data (like name, email, and a list of hobbies)."
   ]
  }
 ],
 "metadata": {
  "kernelspec": {
   "display_name": "Java",
   "language": "java",
   "name": "java"
  },
  "language_info": {
   "name": "java"
  }
 },
 "nbformat": 4,
 "nbformat_minor": 2
}
